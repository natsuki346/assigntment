{
 "cells": [
  {
   "cell_type": "markdown",
   "id": "9944e79b-ff24-4585-8b66-b35394de4f6c",
   "metadata": {},
   "source": [
    "<h1>Data Science Tools and Ecosystem</h1>"
   ]
  },
  {
   "cell_type": "markdown",
   "id": "8d8e0490-5a67-4ed5-a491-419b9bb44ec4",
   "metadata": {},
   "source": [
    "## In this notebook, Data Science Tools and Ecosystem are summarized."
   ]
  },
  {
   "cell_type": "markdown",
   "id": "fab5d7fb-edfc-43dd-bc1c-12e6e5182539",
   "metadata": {},
   "source": [
    "**Objectives:**  \n",
    "unordered list\n",
    "- originated as iPython  \n",
    "- records data science experiments  \n",
    "- allows combining text,code blocks and code output in a sigle file  \n",
    "- exports the notebook to a PDF or HTML file format  "
   ]
  },
  {
   "cell_type": "markdown",
   "id": "3356163c-31d0-420a-b4aa-cd85bdc09a29",
   "metadata": {},
   "source": [
    "Some of the popular languages that Data Scientists use are:  \n",
    "1.Python  \n",
    "2.R  \n",
    "3.SQL"
   ]
  },
  {
   "cell_type": "markdown",
   "id": "4eb00c48-5092-455f-b278-c1dc9b63e0e7",
   "metadata": {},
   "source": [
    "Some of the commonly used libraries used by Data Scientists include:  \n",
    "1.Scientifics computing libraries  \n",
    "2.Visualization  \n",
    "3.Machine learning  "
   ]
  },
  {
   "cell_type": "markdown",
   "id": "20e59f2c-5868-475c-9fd3-22a06d968065",
   "metadata": {},
   "source": [
    "|Data Science Tools|\n",
    "|-----------------|\n",
    "|Jupyter Notebook|\n",
    "|R studio|\n",
    "|IBM DAX|"
   ]
  },
  {
   "cell_type": "markdown",
   "id": "8fa865cb-604a-40fa-a032-694005706ac6",
   "metadata": {},
   "source": [
    "<h3>Below are a few examples of evaluating arithmetic expressions in Python</h3>"
   ]
  },
  {
   "cell_type": "code",
   "execution_count": 7,
   "id": "22f2a322-69f4-451f-bff9-01a4e227602c",
   "metadata": {},
   "outputs": [
    {
     "data": {
      "text/plain": [
       "17"
      ]
     },
     "execution_count": 7,
     "metadata": {},
     "output_type": "execute_result"
    }
   ],
   "source": [
    "#This a simple arithmetic expression to multiply then add integers\n",
    "(3*4)+5"
   ]
  },
  {
   "cell_type": "code",
   "execution_count": 14,
   "id": "5cb7c8fb-09da-4eaa-82a8-d8f4e012a873",
   "metadata": {},
   "outputs": [
    {
     "name": "stdout",
     "output_type": "stream",
     "text": [
      "3.3333333333333335\n"
     ]
    }
   ],
   "source": [
    "# This will convert 200 minutes to hours by diving by 60\n",
    "\n",
    "minutues = 200\n",
    "hour = minutues / 60\n",
    "print(hour)"
   ]
  },
  {
   "cell_type": "markdown",
   "id": "bff3d472-5741-4e09-a2ff-ffc944cb9728",
   "metadata": {},
   "source": [
    "<h2>Author</h2>"
   ]
  },
  {
   "cell_type": "markdown",
   "id": "28d2c121-ac6c-433a-a091-2601e6543760",
   "metadata": {},
   "source": [
    "Mishiro Natsuki"
   ]
  },
  {
   "cell_type": "code",
   "execution_count": null,
   "id": "26bac379-abcc-4dcb-bd94-88418ca78fb5",
   "metadata": {},
   "outputs": [],
   "source": []
  }
 ],
 "metadata": {
  "kernelspec": {
   "display_name": "Python 3 (ipykernel)",
   "language": "python",
   "name": "python3"
  },
  "language_info": {
   "codemirror_mode": {
    "name": "ipython",
    "version": 3
   },
   "file_extension": ".py",
   "mimetype": "text/x-python",
   "name": "python",
   "nbconvert_exporter": "python",
   "pygments_lexer": "ipython3",
   "version": "3.12.8"
  }
 },
 "nbformat": 4,
 "nbformat_minor": 5
}
